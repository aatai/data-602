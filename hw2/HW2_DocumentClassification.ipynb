{
 "cells": [
  {
   "cell_type": "markdown",
   "metadata": {
    "id": "w3n07xurnj8G"
   },
   "source": [
    "###  20 News Groups Corpus, Sample dataset included in scikit-learn\n",
    "A collection of almost 20,000 articles on 20 different topics or 'newsgroups'.   \n",
    "Corpus: Text Collection\n",
    "more info: https://scikit-learn.org/stable/modules/generated/sklearn.datasets.fetch_20newsgroups.html"
   ]
  },
  {
   "cell_type": "code",
   "execution_count": 29,
   "metadata": {
    "colab": {
     "base_uri": "https://localhost:8080/"
    },
    "id": "kZFnmJHrnlsw",
    "outputId": "3df2aeac-bd15-44cc-d198-da0d7f073404"
   },
   "outputs": [],
   "source": [
    "import pandas as pd\n",
    "from sklearn.datasets import fetch_20newsgroups\n",
    "\n",
    "twenty_groups = fetch_20newsgroups(subset='all', random_state=21) \n",
    "# we will do cross validation, so we fetch all data\n",
    "# random state again same for all of you, so you all have the same shuffling for having same results"
   ]
  },
  {
   "cell_type": "markdown",
   "metadata": {
    "id": "uTwhcntfoVP-"
   },
   "source": [
    "### These are the groups that the text samples originated from."
   ]
  },
  {
   "cell_type": "code",
   "execution_count": 33,
   "metadata": {
    "colab": {
     "base_uri": "https://localhost:8080/"
    },
    "id": "xRGFKl-1n8mz",
    "outputId": "4928d822-6d23-45bc-dbfe-ff2da3cb207f"
   },
   "outputs": [
    {
     "data": {
      "text/plain": [
       "['alt.atheism',\n",
       " 'comp.graphics',\n",
       " 'comp.os.ms-windows.misc',\n",
       " 'comp.sys.ibm.pc.hardware',\n",
       " 'comp.sys.mac.hardware',\n",
       " 'comp.windows.x',\n",
       " 'misc.forsale',\n",
       " 'rec.autos',\n",
       " 'rec.motorcycles',\n",
       " 'rec.sport.baseball',\n",
       " 'rec.sport.hockey',\n",
       " 'sci.crypt',\n",
       " 'sci.electronics',\n",
       " 'sci.med',\n",
       " 'sci.space',\n",
       " 'soc.religion.christian',\n",
       " 'talk.politics.guns',\n",
       " 'talk.politics.mideast',\n",
       " 'talk.politics.misc',\n",
       " 'talk.religion.misc']"
      ]
     },
     "execution_count": 33,
     "metadata": {},
     "output_type": "execute_result"
    }
   ],
   "source": [
    "twenty_groups.target_names"
   ]
  },
  {
   "cell_type": "markdown",
   "metadata": {
    "id": "WiYrProcqDsI"
   },
   "source": [
    "#### Seeing what is the class of first entry:"
   ]
  },
  {
   "cell_type": "code",
   "execution_count": 34,
   "metadata": {
    "colab": {
     "base_uri": "https://localhost:8080/"
    },
    "id": "MulQjRg-ps3-",
    "outputId": "dbc04c61-20de-4058-8fce-4db883ff0e45"
   },
   "outputs": [
    {
     "data": {
      "text/plain": [
       "18"
      ]
     },
     "execution_count": 34,
     "metadata": {},
     "output_type": "execute_result"
    }
   ],
   "source": [
    "i=0\n",
    "twenty_groups.target[i]"
   ]
  },
  {
   "cell_type": "markdown",
   "metadata": {
    "id": "oxGou9XgqMzz"
   },
   "source": [
    "#### Index 9 is rec.sport.baseball, lets look at the first entry and see if it makes sense:"
   ]
  },
  {
   "cell_type": "code",
   "execution_count": 35,
   "metadata": {
    "colab": {
     "base_uri": "https://localhost:8080/",
     "height": 174
    },
    "id": "LJ0o51wep8UW",
    "outputId": "c29ac9c6-e80f-411e-dce1-a8c922a3edcb"
   },
   "outputs": [
    {
     "data": {
      "text/plain": [
       "'From: hallam@dscomsa.desy.de (Phill Hallam-Baker)\\nSubject: Re: re: fillibuster\\nLines: 55\\nReply-To: hallam@zeus02.desy.de\\nOrganization: DESYDeutsches Elektronen Synchrotron, Experiment ZEUS bei HERA\\n\\n\\nIn article <1993Apr12.002302.5262@martha.utcc.utk.edu>, PA146008@utkvm1.utk.edu (David Veal) writes:\\n\\n|>>Come to that under the original plan there wasn\\'t meant to be anything\\n|>>much for the federal government to do except keep the British out.\\n|>\\n|>       That\\'s also untrue, but at least we\\'re wandering a little closer\\n|>toward reality.  That the Articles of Confederation fell apart is enough\\n|>proof it was there for just a tad bit more.\\n\\nWell yes and no. The Federalist papers are propaganda and it is therefore\\ndifficult to determine precisely what Maddison etc were up to from them. They\\ncertainly emphasised a limited role for the federal government but this\\nwas not necessarily their true position.\\n\\n|>>And like the house of lords which it is copied from it was given pretty\\n|>>wide powers. Unfortunately they started to use them and thus the gridlock\\n|>>set in.\\n|>\\n|>       I wasn\\'t aware the House of Lords had \"wide powers.\"  I was under the\\n|>impression is was pretty powerless compared to the House of Commons, and\\n|>certainly didn\\'t have almost equal their powers.  (The Senate is restricted\\n|>only that it may not introduce bills relating to raising revenue.)\\n\\nThe Senate was less powerful than the House of Lords in the period in question.\\nThe stripping of the powers of the House of Lords did not occur until 1914\\nand David Llloyd George\\'s budget. Even despite this the House of Lords has\\nconsiderable power even today and is far from a rubber stamping body. \\n\\n\\n|>       My reading of the Constitution and other writings gives me absolutely\\n|>no reason to believe the Senate wasn\\'t intended to make use of their \\n|>law-making powers.  In fact, grid-lock appears to have been designed\\n|>into the system, with the Senate being a more deliberative body to act\\n|>as a check on the more-often elected House.\\n\\nThe system is meant to be slow to react, the problem is that it ended up\\na bit too slow.\\n\\n\\n|>       On what basis do you suggest that the Senate was supposed to be\\n|>some sort of rubber-stamp for the House?  You\\'ll note that while the\\n|>President\\'s veto may be over-ridden, the House can\\'t do anything about\\n|>a \"veto\" by the Senate.\\n\\nThe Presiden\\'t veto was meant to be entirely separate. Until Bush abused it\\nin a quite extraordinary manner it was used more in accord with the intent\\nof being a check on unreasonable legislation. The veto was clearly regarded \\nas a completely last gasp measure its use was meant to be restricted to\\npreventing the legislature interfering with the actions of the executive.\\n\\nthe Senate is not meant to be exactly a rubber stamp body, it is meant as\\na check on unrestrained legislation. That is the extra measure built into\\nthe constitution in favour of the status quo, 60% of the representatives\\nof the states is not a reasonable restriction. \\n'"
      ]
     },
     "execution_count": 35,
     "metadata": {},
     "output_type": "execute_result"
    }
   ],
   "source": [
    "twenty_groups.data[i]"
   ]
  },
  {
   "cell_type": "markdown",
   "metadata": {
    "id": "86Lp9LaIo6yP"
   },
   "source": [
    "## Q1: Is the full dataset balanced for each class? Do a barchart."
   ]
  },
  {
   "cell_type": "code",
   "execution_count": 36,
   "metadata": {
    "id": "NrEG-p9t0sUr"
   },
   "outputs": [
    {
     "name": "stdout",
     "output_type": "stream",
     "text": [
      "['alt.atheism', 'comp.graphics', 'comp.os.ms-windows.misc', 'comp.sys.ibm.pc.hardware', 'comp.sys.mac.hardware', 'comp.windows.x', 'misc.forsale', 'rec.autos', 'rec.motorcycles', 'rec.sport.baseball', 'rec.sport.hockey', 'sci.crypt', 'sci.electronics', 'sci.med', 'sci.space', 'soc.religion.christian', 'talk.politics.guns', 'talk.politics.mideast', 'talk.politics.misc', 'talk.religion.misc']\n",
      "23943\n",
      "495\n",
      "12405\n",
      "2058\n",
      "418\n",
      "4885\n",
      "5115\n",
      "436\n",
      "1741\n",
      "1058\n"
     ]
    },
    {
     "data": {
      "image/png": "[encoded data removed]",
      "text/plain": [
       "<Figure size 432x288 with 1 Axes>"
      ]
     },
     "metadata": {
      "needs_background": "light"
     },
     "output_type": "display_data"
    }
   ],
   "source": [
    "# ANSWER to Q1 goes here\n",
    "########################\n",
    "import matplotlib.pyplot as plt\n",
    "fig = plt.figure()\n",
    "ax = fig.add_axes([0,0,2,2])\n",
    "langs = twenty_groups.target_names\n",
    "print(langs)\n",
    "numbers = []\n",
    "categories = []\n",
    "dataset = {}\n",
    "for i in range(0,20):\n",
    "    numbers.append(len(twenty_groups.data[i]))\n",
    "    categories.append(twenty_groups.target[i])\n",
    "    categoryName = 'category ' + str(twenty_groups.target[i])\n",
    "    if (categoryName not in dataset):\n",
    "        dataset[categoryName] = len(twenty_groups.data[i])\n",
    "    else:\n",
    "        dataset[categoryName] += len(twenty_groups.data[i])\n",
    "\n",
    "for i in dataset:\n",
    "    print(dataset[i])\n",
    "ax.bar(dataset.keys(),dataset.values())\n",
    "plt.show()\n"
   ]
  },
  {
   "cell_type": "markdown",
   "metadata": {
    "id": "QwqiL_VhxuKU"
   },
   "source": [
    "We want to work on a binary classification example.\n",
    "Let's focus on one class 'misc.forsale', and name the rest as others.\n",
    "\n",
    "Or let's say we wanted to have a model for detecting sales related emails, and \n",
    "used this dataset to train that model"
   ]
  },
  {
   "cell_type": "code",
   "execution_count": 37,
   "metadata": {
    "colab": {
     "base_uri": "https://localhost:8080/"
    },
    "id": "UeeVDVyUo5Su",
    "outputId": "3645018f-60ca-4372-c6f7-6e7507bf31a0"
   },
   "outputs": [
    {
     "data": {
      "text/plain": [
       "list"
      ]
     },
     "execution_count": 37,
     "metadata": {},
     "output_type": "execute_result"
    }
   ],
   "source": [
    "type(twenty_groups.target_names)"
   ]
  },
  {
   "cell_type": "code",
   "execution_count": 38,
   "metadata": {
    "id": "NoRsgDTDyKTB"
   },
   "outputs": [],
   "source": [
    "twenty_groups.target_names.append('others')"
   ]
  },
  {
   "cell_type": "code",
   "execution_count": 39,
   "metadata": {
    "colab": {
     "base_uri": "https://localhost:8080/"
    },
    "id": "wr7shlJCyRsq",
    "outputId": "1d5d0bf0-5265-4c68-ddd7-b862e1b708fa"
   },
   "outputs": [
    {
     "data": {
      "text/plain": [
       "21"
      ]
     },
     "execution_count": 39,
     "metadata": {},
     "output_type": "execute_result"
    }
   ],
   "source": [
    "len(twenty_groups.target_names)"
   ]
  },
  {
   "cell_type": "code",
   "execution_count": 40,
   "metadata": {
    "colab": {
     "base_uri": "https://localhost:8080/"
    },
    "id": "OrPwRVSSzIu4",
    "outputId": "833a6667-ced1-4cee-ad7b-1c59822e8aba"
   },
   "outputs": [
    {
     "name": "stdout",
     "output_type": "stream",
     "text": [
      "0 alt.atheism\n",
      "1 comp.graphics\n",
      "2 comp.os.ms-windows.misc\n",
      "3 comp.sys.ibm.pc.hardware\n",
      "4 comp.sys.mac.hardware\n",
      "5 comp.windows.x\n",
      "6 misc.forsale\n",
      "7 rec.autos\n",
      "8 rec.motorcycles\n",
      "9 rec.sport.baseball\n",
      "10 rec.sport.hockey\n",
      "11 sci.crypt\n",
      "12 sci.electronics\n",
      "13 sci.med\n",
      "14 sci.space\n",
      "15 soc.religion.christian\n",
      "16 talk.politics.guns\n",
      "17 talk.politics.mideast\n",
      "18 talk.politics.misc\n",
      "19 talk.religion.misc\n",
      "20 others\n"
     ]
    }
   ],
   "source": [
    "for i in range(0,21):\n",
    "  print(str(i) + \" \" + twenty_groups.target_names[i])"
   ]
  },
  {
   "cell_type": "markdown",
   "metadata": {
    "id": "mFxHrhrwytxL"
   },
   "source": [
    "Since first class was 0, 'others' class will be index 20, we need to replace \n",
    "everything except 6 (\"misc.forsale\") with 20 in the target. "
   ]
  },
  {
   "cell_type": "code",
   "execution_count": 41,
   "metadata": {
    "colab": {
     "base_uri": "https://localhost:8080/"
    },
    "id": "6lN4yBwSyUty",
    "outputId": "1bf9c3b2-24aa-4247-989a-f336bee8eeaf"
   },
   "outputs": [
    {
     "data": {
      "text/plain": [
       "18"
      ]
     },
     "execution_count": 41,
     "metadata": {},
     "output_type": "execute_result"
    }
   ],
   "source": [
    "twenty_groups.target[0]"
   ]
  },
  {
   "cell_type": "code",
   "execution_count": 42,
   "metadata": {
    "id": "QfwAWEUyzl8R"
   },
   "outputs": [],
   "source": [
    "twenty_groups.target[0]=20"
   ]
  },
  {
   "cell_type": "code",
   "execution_count": 43,
   "metadata": {
    "colab": {
     "base_uri": "https://localhost:8080/"
    },
    "id": "XfBCfz05zsBG",
    "outputId": "87cc3f4e-8a06-4cd2-c1c0-288e04912c45"
   },
   "outputs": [
    {
     "data": {
      "text/plain": [
       "20"
      ]
     },
     "execution_count": 43,
     "metadata": {},
     "output_type": "execute_result"
    }
   ],
   "source": [
    "twenty_groups.target[0] # I checked if I could really modify it!"
   ]
  },
  {
   "cell_type": "code",
   "execution_count": 44,
   "metadata": {
    "colab": {
     "base_uri": "https://localhost:8080/"
    },
    "id": "jzrTYRRz0HhF",
    "outputId": "19bc5368-0b8c-44a5-c035-293ecff374f2"
   },
   "outputs": [
    {
     "data": {
      "text/plain": [
       "12"
      ]
     },
     "execution_count": 44,
     "metadata": {},
     "output_type": "execute_result"
    }
   ],
   "source": [
    "twenty_groups.target[1] #second element"
   ]
  },
  {
   "cell_type": "code",
   "execution_count": 45,
   "metadata": {
    "colab": {
     "base_uri": "https://localhost:8080/"
    },
    "id": "9Z2un6GK0VcE",
    "outputId": "b5a63199-3aea-41bb-ad35-106c88761172"
   },
   "outputs": [
    {
     "data": {
      "text/plain": [
       "7"
      ]
     },
     "execution_count": 45,
     "metadata": {},
     "output_type": "execute_result"
    }
   ],
   "source": [
    "twenty_groups.target[-1] #last element"
   ]
  },
  {
   "cell_type": "code",
   "execution_count": 46,
   "metadata": {
    "id": "6F7frxRcztrR"
   },
   "outputs": [],
   "source": [
    "class_to_keep = 6\n",
    "# now do it in a loop\n",
    "for i in range(0,len(twenty_groups.target)):\n",
    "  if twenty_groups.target[i]!= class_to_keep:\n",
    "    twenty_groups.target[i]=20"
   ]
  },
  {
   "cell_type": "code",
   "execution_count": 47,
   "metadata": {
    "colab": {
     "base_uri": "https://localhost:8080/"
    },
    "id": "3uA38BMu0bgj",
    "outputId": "829dbb02-1697-4ee8-aab6-a3ce726a9942"
   },
   "outputs": [
    {
     "data": {
      "text/plain": [
       "20"
      ]
     },
     "execution_count": 47,
     "metadata": {},
     "output_type": "execute_result"
    }
   ],
   "source": [
    "twenty_groups.target[1] #second element"
   ]
  },
  {
   "cell_type": "code",
   "execution_count": 48,
   "metadata": {
    "colab": {
     "base_uri": "https://localhost:8080/"
    },
    "id": "aRR01f_k0eF3",
    "outputId": "0e06d319-a3c9-470d-fa93-249b0da4b0e4"
   },
   "outputs": [
    {
     "data": {
      "text/plain": [
       "20"
      ]
     },
     "execution_count": 48,
     "metadata": {},
     "output_type": "execute_result"
    }
   ],
   "source": [
    "twenty_groups.target[-1] #last element"
   ]
  },
  {
   "cell_type": "markdown",
   "metadata": {
    "id": "mmHisB810i4R"
   },
   "source": [
    "## Q2:Do another barchart to see the new class distribution."
   ]
  },
  {
   "cell_type": "code",
   "execution_count": 49,
   "metadata": {
    "id": "dGewGi-P0foM"
   },
   "outputs": [
    {
     "name": "stdout",
     "output_type": "stream",
     "text": [
      "['alt.atheism', 'comp.graphics', 'comp.os.ms-windows.misc', 'comp.sys.ibm.pc.hardware', 'comp.sys.mac.hardware', 'comp.windows.x', 'misc.forsale', 'rec.autos', 'rec.motorcycles', 'rec.sport.baseball', 'rec.sport.hockey', 'sci.crypt', 'sci.electronics', 'sci.med', 'sci.space', 'soc.religion.christian', 'talk.politics.guns', 'talk.politics.mideast', 'talk.politics.misc', 'talk.religion.misc', 'others']\n",
      "51496\n",
      "1058\n"
     ]
    },
    {
     "data": {
      "image/png": "[encoded data removed]",
      "text/plain": [
       "<Figure size 432x288 with 1 Axes>"
      ]
     },
     "metadata": {
      "needs_background": "light"
     },
     "output_type": "display_data"
    }
   ],
   "source": [
    "# ANSWER to Q2 goes here\n",
    "########################\n",
    "fig = plt.figure()\n",
    "ax = fig.add_axes([0,0,2,2])\n",
    "langs = twenty_groups.target_names\n",
    "print(langs)\n",
    "numbers = []\n",
    "categories = []\n",
    "dataset = {}\n",
    "for i in range(0,20):\n",
    "    numbers.append(len(twenty_groups.data[i]))\n",
    "    categories.append(twenty_groups.target[i])\n",
    "    categoryName = 'category ' + str(twenty_groups.target[i])\n",
    "    if (categoryName not in dataset):\n",
    "        dataset[categoryName] = len(twenty_groups.data[i])\n",
    "    else:\n",
    "        dataset[categoryName] += len(twenty_groups.data[i])\n",
    "\n",
    "for i in dataset:\n",
    "    print(dataset[i])\n",
    "ax.bar(dataset.keys(),dataset.values())\n",
    "plt.show()"
   ]
  },
  {
   "cell_type": "code",
   "execution_count": 50,
   "metadata": {
    "id": "YYWVSaTHpc7n"
   },
   "outputs": [],
   "source": [
    "from sklearn.model_selection import train_test_split\n",
    "\n",
    "#Split the data to have a 10% validation set. \n",
    "twenty_g_X_train, twenty_g_X_test, twenty_g_y_train, twenty_g_y_test = \\\n",
    "train_test_split(twenty_groups.data, twenty_groups.target, \n",
    "                 test_size=0.10, random_state=21)"
   ]
  },
  {
   "cell_type": "markdown",
   "metadata": {
    "id": "CNVro6IT1ncl"
   },
   "source": [
    "**PRE Q3:** Let's create a pipeline that creates the vectors representing the documents, and then classify them using 5 Nearest Neighbor classifier.\n"
   ]
  },
  {
   "cell_type": "code",
   "execution_count": 51,
   "metadata": {
    "colab": {
     "base_uri": "https://localhost:8080/"
    },
    "id": "NRZ50e1H1kjS",
    "outputId": "1f7a20c2-054d-497b-c1a0-481f002b6a97"
   },
   "outputs": [
    {
     "name": "stdout",
     "output_type": "stream",
     "text": [
      "Fitting 10 folds for each of 1 candidates, totalling 10 fits\n"
     ]
    },
    {
     "name": "stderr",
     "output_type": "stream",
     "text": [
      "[Parallel(n_jobs=-1)]: Using backend LokyBackend with 8 concurrent workers.\n",
      "[Parallel(n_jobs=-1)]: Done   6 out of  10 | elapsed:   22.2s remaining:   14.7s\n",
      "[Parallel(n_jobs=-1)]: Done  10 out of  10 | elapsed:   34.3s finished\n"
     ]
    },
    {
     "data": {
      "text/plain": [
       "GridSearchCV(cv=10, error_score='raise-deprecating',\n",
       "             estimator=Pipeline(memory=None,\n",
       "                                steps=[('vect',\n",
       "                                        TfidfVectorizer(analyzer='word',\n",
       "                                                        binary=False,\n",
       "                                                        decode_error='strict',\n",
       "                                                        dtype=<class 'numpy.float64'>,\n",
       "                                                        encoding='utf-8',\n",
       "                                                        input='content',\n",
       "                                                        lowercase=True,\n",
       "                                                        max_df=1.0,\n",
       "                                                        max_features=None,\n",
       "                                                        min_df=1,\n",
       "                                                        ngram_range=(1, 1),\n",
       "                                                        norm='l2',\n",
       "                                                        preprocessor=None,\n",
       "                                                        smooth_idf=True,\n",
       "                                                        stop_word...\n",
       "                                                        token_pattern='(?u)\\\\b\\\\w\\\\w+\\\\b',\n",
       "                                                        tokenizer=None,\n",
       "                                                        use_idf=True,\n",
       "                                                        vocabulary=None)),\n",
       "                                       ('model',\n",
       "                                        KNeighborsClassifier(algorithm='auto',\n",
       "                                                             leaf_size=30,\n",
       "                                                             metric='minkowski',\n",
       "                                                             metric_params=None,\n",
       "                                                             n_jobs=None,\n",
       "                                                             n_neighbors=5, p=2,\n",
       "                                                             weights='uniform'))],\n",
       "                                verbose=False),\n",
       "             iid='warn', n_jobs=-1, param_grid={}, pre_dispatch='2*n_jobs',\n",
       "             refit=True, return_train_score=False, scoring=None, verbose=1)"
      ]
     },
     "execution_count": 51,
     "metadata": {},
     "output_type": "execute_result"
    }
   ],
   "source": [
    "from sklearn.pipeline import Pipeline\n",
    "from sklearn.feature_extraction.text import TfidfVectorizer\n",
    "from sklearn.neighbors import KNeighborsClassifier\n",
    "\n",
    "pipe = Pipeline([('vect', TfidfVectorizer(stop_words='english')),\n",
    "                 ('model', KNeighborsClassifier())])\n",
    "\n",
    "# and do a gridsearchCV to do cross validation \n",
    "from sklearn.model_selection import GridSearchCV\n",
    "# We are not doing hyperparameter optimization, so empty parameters dictionary passed\n",
    "# Using GridSearchCV here, only for cross validation \n",
    "parameters = {}\n",
    "grid_search = GridSearchCV(pipe, parameters, cv=10, verbose=1,n_jobs=-1)\n",
    "\n",
    "# Running the experiments \n",
    "grid_search.fit(twenty_g_X_train, twenty_g_y_train)"
   ]
  },
  {
   "cell_type": "markdown",
   "metadata": {
    "id": "3f_yDSlG17vH"
   },
   "source": [
    "**PreQ3c**: This is one way to display classification report: "
   ]
  },
  {
   "cell_type": "code",
   "execution_count": 52,
   "metadata": {
    "colab": {
     "base_uri": "https://localhost:8080/"
    },
    "id": "N77qUBjDaeBO",
    "outputId": "de5ab8d3-6804-422d-a78a-360225481c8d"
   },
   "outputs": [
    {
     "name": "stdout",
     "output_type": "stream",
     "text": [
      "              precision    recall  f1-score   support\n",
      "\n",
      "    for-sale       0.81      0.39      0.53       107\n",
      "      others       0.96      0.99      0.98      1778\n",
      "\n",
      "    accuracy                           0.96      1885\n",
      "   macro avg       0.89      0.69      0.75      1885\n",
      "weighted avg       0.96      0.96      0.95      1885\n",
      "\n",
      "Accuracy: 0.9602122015915119\n"
     ]
    }
   ],
   "source": [
    "from sklearn.metrics import classification_report\n",
    "\n",
    "# Using the predictor found to be best to predict the validation set\n",
    "predicted1 = grid_search.predict(twenty_g_X_test)\n",
    "\n",
    "from sklearn.metrics import classification_report\n",
    "print(classification_report(twenty_g_y_test,\n",
    "                            predicted1, \n",
    "                            target_names=[\"for-sale\", \"others\"]))\n",
    "\n",
    "from sklearn.metrics import accuracy_score\n",
    "print(\"Accuracy:\", accuracy_score(twenty_g_y_test, predicted1))"
   ]
  },
  {
   "cell_type": "markdown",
   "metadata": {
    "id": "66df1il3tF6p"
   },
   "source": [
    "## Q3a: GridSearchCV for hyperparameter optimization\n",
    "Rerun this experiment to see which k in kNN, gives best f1-score \n",
    "Use \n",
    "```\n",
    "parameters = {\"model__n_neighbors\" : range(1,11,3)}\n",
    "```\n",
    "you will be testing for k values  [1, 4, 7, 10]\n",
    "\n",
    "The experiments may take 5-10 minutes, as kNN classifier is not really a model, \n",
    "but compares with all entries in runtime!\n",
    " "
   ]
  },
  {
   "cell_type": "code",
   "execution_count": 57,
   "metadata": {
    "id": "M4esnvj4Pu-O"
   },
   "outputs": [
    {
     "name": "stdout",
     "output_type": "stream",
     "text": [
      "Fitting 10 folds for each of 4 candidates, totalling 40 fits\n"
     ]
    },
    {
     "name": "stderr",
     "output_type": "stream",
     "text": [
      "[Parallel(n_jobs=-1)]: Using backend LokyBackend with 8 concurrent workers.\n",
      "[Parallel(n_jobs=-1)]: Done  40 out of  40 | elapsed:  1.7min finished\n"
     ]
    },
    {
     "data": {
      "text/plain": [
       "{'mean_fit_time': array([12.72182894, 13.02992451, 13.07652125, 12.66231887]),\n",
       " 'std_fit_time': array([0.37765238, 0.34419899, 0.57058798, 0.31706102]),\n",
       " 'mean_score_time': array([5.26055501, 5.74979377, 5.66579933, 5.13332677]),\n",
       " 'std_score_time': array([0.24038484, 0.32958553, 0.39569806, 0.23372256]),\n",
       " 'param_model__n_neighbors': masked_array(data=[1, 4, 7, 10],\n",
       "              mask=[False, False, False, False],\n",
       "        fill_value='?',\n",
       "             dtype=object),\n",
       " 'params': [{'model__n_neighbors': 1},\n",
       "  {'model__n_neighbors': 4},\n",
       "  {'model__n_neighbors': 7},\n",
       "  {'model__n_neighbors': 10}],\n",
       " 'split0_test_score': array([0.96464349, 0.96582204, 0.96876841, 0.96758986]),\n",
       " 'split1_test_score': array([0.96641131, 0.96464349, 0.96523276, 0.95992929]),\n",
       " 'split2_test_score': array([0.96758986, 0.96523276, 0.95816146, 0.95757219]),\n",
       " 'split3_test_score': array([0.96639151, 0.96403302, 0.9634434 , 0.96285377]),\n",
       " 'split4_test_score': array([0.97169811, 0.9634434 , 0.96639151, 0.9634434 ]),\n",
       " 'split5_test_score': array([0.96875   , 0.96639151, 0.96580189, 0.96698113]),\n",
       " 'split6_test_score': array([0.96757075, 0.96285377, 0.96403302, 0.96462264]),\n",
       " 'split7_test_score': array([0.96698113, 0.96108491, 0.96108491, 0.96049528]),\n",
       " 'split8_test_score': array([0.96873156, 0.9640118 , 0.95988201, 0.96106195]),\n",
       " 'split9_test_score': array([0.96224189, 0.96460177, 0.96460177, 0.96519174]),\n",
       " 'mean_test_score': array([0.967101  , 0.96421202, 0.96374035, 0.96297388]),\n",
       " 'std_test_score': array([0.0024    , 0.00144948, 0.00304607, 0.00305792]),\n",
       " 'rank_test_score': array([1, 2, 3, 4])}"
      ]
     },
     "execution_count": 57,
     "metadata": {},
     "output_type": "execute_result"
    }
   ],
   "source": [
    "# ANSWER to Q3a goes here\n",
    "########################\n",
    "parameters = {\"model__n_neighbors\" :  [1, 4, 7, 10]}\n",
    "grid_search = GridSearchCV(pipe, parameters, cv=10, verbose=1,n_jobs=-1)\n",
    "grid_search.fit(twenty_g_X_train, twenty_g_y_train)\n",
    "grid_search.cv_results_"
   ]
  },
  {
   "cell_type": "code",
   "execution_count": null,
   "metadata": {
    "colab": {
     "base_uri": "https://localhost:8080/"
    },
    "id": "-_xF933E8P4N",
    "outputId": "336c5fd5-820c-42c9-d0f5-1cc7e322e3e5"
   },
   "outputs": [
    {
     "name": "stdout",
     "output_type": "stream",
     "text": [
      "Fitting 10 folds for each of 1 candidates, totalling 10 fits\n"
     ]
    },
    {
     "name": "stderr",
     "output_type": "stream",
     "text": [
      "[Parallel(n_jobs=1)]: Using backend SequentialBackend with 1 concurrent workers.\n",
      "[Parallel(n_jobs=1)]: Done  10 out of  10 | elapsed:  1.1min finished\n"
     ]
    },
    {
     "data": {
      "text/plain": [
       "GridSearchCV(cv=10, error_score=nan,\n",
       "             estimator=Pipeline(memory=None,\n",
       "                                steps=[('vect',\n",
       "                                        TfidfVectorizer(analyzer='word',\n",
       "                                                        binary=False,\n",
       "                                                        decode_error='strict',\n",
       "                                                        dtype=<class 'numpy.float64'>,\n",
       "                                                        encoding='utf-8',\n",
       "                                                        input='content',\n",
       "                                                        lowercase=True,\n",
       "                                                        max_df=1.0,\n",
       "                                                        max_features=None,\n",
       "                                                        min_df=1,\n",
       "                                                        ngram_range=(1, 1),\n",
       "                                                        norm='l2',\n",
       "                                                        preprocessor=None,\n",
       "                                                        smooth_idf=True,\n",
       "                                                        stop_words='english',\n",
       "                                                        stri...\n",
       "                                                        vocabulary=None)),\n",
       "                                       ('model',\n",
       "                                        LinearSVC(C=1.0, class_weight=None,\n",
       "                                                  dual=True, fit_intercept=True,\n",
       "                                                  intercept_scaling=1,\n",
       "                                                  loss='squared_hinge',\n",
       "                                                  max_iter=1000,\n",
       "                                                  multi_class='ovr',\n",
       "                                                  penalty='l2',\n",
       "                                                  random_state=None, tol=0.0001,\n",
       "                                                  verbose=0))],\n",
       "                                verbose=False),\n",
       "             iid='deprecated', n_jobs=None, param_grid={},\n",
       "             pre_dispatch='2*n_jobs', refit=True, return_train_score=False,\n",
       "             scoring=None, verbose=1)"
      ]
     },
     "execution_count": 22,
     "metadata": {},
     "output_type": "execute_result"
    }
   ],
   "source": [
    "from sklearn.pipeline import Pipeline\n",
    "from sklearn.feature_extraction.text import TfidfVectorizer\n",
    "from sklearn.svm import LinearSVC\n",
    "\n",
    "pipe = Pipeline([('vect', TfidfVectorizer(stop_words='english')),\n",
    "                 ('model', LinearSVC())])\n",
    "\n",
    "# and do a gridsearchCV to do cross validation \n",
    "from sklearn.model_selection import GridSearchCV\n",
    "# We are not doing hyperparameter optimization, so empty parameters dictionary passed\n",
    "# Using GridSearchCV here, only for cross validation \n",
    "parameters = {}\n",
    "grid_search = GridSearchCV(pipe, parameters, cv=10, verbose=1)\n",
    "\n",
    "# Running the experiments \n",
    "grid_search.fit(twenty_groups.data, twenty_groups.target)"
   ]
  },
  {
   "cell_type": "markdown",
   "metadata": {
    "id": "xlVYTaL50-ox"
   },
   "source": [
    "## Q3b: Run again for 2,3\n",
    "in 3a, you must found best accuracy happened at 1 and 4, so you want to look at 2, 3 too, maybe best is between k=1 and k=4.\n",
    "use \n",
    "\n",
    "\n",
    "```\n",
    "parameters = {\"model__n_neighbors\" : (2, 3)}\n",
    "```\n",
    "\n"
   ]
  },
  {
   "cell_type": "code",
   "execution_count": null,
   "metadata": {
    "id": "BwfF2er1094C"
   },
   "outputs": [],
   "source": []
  },
  {
   "cell_type": "markdown",
   "metadata": {
    "id": "3581vAct7BzZ"
   },
   "source": [
    "\n",
    "For the best performing kNN classifier you found, \n",
    "##Q3c:  display classification_report like above in PreQc3, and \n",
    "##Q3d: the confusion matrix..."
   ]
  },
  {
   "cell_type": "code",
   "execution_count": 58,
   "metadata": {
    "id": "3oChYF7dP1L9"
   },
   "outputs": [
    {
     "name": "stdout",
     "output_type": "stream",
     "text": [
      "Fitting 10 folds for each of 2 candidates, totalling 20 fits\n"
     ]
    },
    {
     "name": "stderr",
     "output_type": "stream",
     "text": [
      "[Parallel(n_jobs=-1)]: Using backend LokyBackend with 8 concurrent workers.\n",
      "[Parallel(n_jobs=-1)]: Done  20 out of  20 | elapsed:   56.5s finished\n"
     ]
    },
    {
     "data": {
      "text/plain": [
       "{'mean_fit_time': array([12.20923157, 11.44001815]),\n",
       " 'std_fit_time': array([0.2994141 , 0.59101905]),\n",
       " 'mean_score_time': array([5.24476895, 5.13335609]),\n",
       " 'std_score_time': array([0.33644668, 0.52398775]),\n",
       " 'param_model__n_neighbors': masked_array(data=[2, 3],\n",
       "              mask=[False, False],\n",
       "        fill_value='?',\n",
       "             dtype=object),\n",
       " 'params': [{'model__n_neighbors': 2}, {'model__n_neighbors': 3}],\n",
       " 'split0_test_score': array([0.95992929, 0.96817914]),\n",
       " 'split1_test_score': array([0.95757219, 0.96582204]),\n",
       " 'split2_test_score': array([0.96110784, 0.96700059]),\n",
       " 'split3_test_score': array([0.95341981, 0.96462264]),\n",
       " 'split4_test_score': array([0.95931604, 0.96757075]),\n",
       " 'split5_test_score': array([0.96049528, 0.96757075]),\n",
       " 'split6_test_score': array([0.95813679, 0.96757075]),\n",
       " 'split7_test_score': array([0.95283019, 0.95990566]),\n",
       " 'split8_test_score': array([0.96165192, 0.96696165]),\n",
       " 'split9_test_score': array([0.9539823 , 0.96578171]),\n",
       " 'mean_test_score': array([0.95784447, 0.9660987 ]),\n",
       " 'std_test_score': array([0.00313795, 0.00230426]),\n",
       " 'rank_test_score': array([2, 1])}"
      ]
     },
     "execution_count": 58,
     "metadata": {},
     "output_type": "execute_result"
    }
   ],
   "source": [
    "# ANSWER to Q3c goes here\n",
    "########################\n",
    "parameters = {\"model__n_neighbors\" : (2, 3)}\n",
    "grid_search = GridSearchCV(pipe, parameters, cv=10, verbose=1,n_jobs=-1)\n",
    "grid_search.fit(twenty_g_X_train, twenty_g_y_train)\n",
    "grid_search.cv_results_"
   ]
  },
  {
   "cell_type": "code",
   "execution_count": 59,
   "metadata": {},
   "outputs": [
    {
     "name": "stdout",
     "output_type": "stream",
     "text": [
      "              precision    recall  f1-score   support\n",
      "\n",
      "    for-sale       0.85      0.50      0.63       107\n",
      "      others       0.97      0.99      0.98      1778\n",
      "\n",
      "    accuracy                           0.97      1885\n",
      "   macro avg       0.91      0.75      0.80      1885\n",
      "weighted avg       0.96      0.97      0.96      1885\n",
      "\n",
      "Accuracy: 0.96657824933687\n"
     ]
    }
   ],
   "source": [
    "from sklearn.metrics import classification_report\n",
    "\n",
    "# Using the predictor found to be best to predict the validation set\n",
    "predicted1 = grid_search.predict(twenty_g_X_test)\n",
    "\n",
    "from sklearn.metrics import classification_report\n",
    "print(classification_report(twenty_g_y_test,\n",
    "                            predicted1, \n",
    "                            target_names=[\"for-sale\", \"others\"]))\n",
    "\n",
    "from sklearn.metrics import accuracy_score\n",
    "print(\"Accuracy:\", accuracy_score(twenty_g_y_test, predicted1))"
   ]
  },
  {
   "cell_type": "code",
   "execution_count": 60,
   "metadata": {
    "id": "QGyVuPZXP6Ab"
   },
   "outputs": [
    {
     "data": {
      "text/plain": [
       "array([[  53,   54],\n",
       "       [   9, 1769]], dtype=int64)"
      ]
     },
     "execution_count": 60,
     "metadata": {},
     "output_type": "execute_result"
    }
   ],
   "source": [
    "# ANSWER to Q3d goes here\n",
    "########################\n",
    "from sklearn.metrics import confusion_matrix\n",
    "confusion_matrix(twenty_g_y_test, predicted1)"
   ]
  },
  {
   "cell_type": "code",
   "execution_count": null,
   "metadata": {},
   "outputs": [],
   "source": []
  }
 ],
 "metadata": {
  "colab": {
   "collapsed_sections": [],
   "name": "HW2-DocumentClassification.ipynb",
   "provenance": []
  },
  "kernelspec": {
   "display_name": "Python 3",
   "language": "python",
   "name": "python3"
  },
  "language_info": {
   "codemirror_mode": {
    "name": "ipython",
    "version": 3
   },
   "file_extension": ".py",
   "mimetype": "text/x-python",
   "name": "python",
   "nbconvert_exporter": "python",
   "pygments_lexer": "ipython3",
   "version": "3.7.3"
  }
 },
 "nbformat": 4,
 "nbformat_minor": 1
}
